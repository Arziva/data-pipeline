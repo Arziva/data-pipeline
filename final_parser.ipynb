{
  "nbformat": 4,
  "nbformat_minor": 0,
  "metadata": {
    "colab": {
      "provenance": [],
      "authorship_tag": "ABX9TyPAcaaupZlhTkCyj2l9jz1C",
      "include_colab_link": true
    },
    "kernelspec": {
      "name": "python3",
      "display_name": "Python 3"
    },
    "language_info": {
      "name": "python"
    }
  },
  "cells": [
    {
      "cell_type": "markdown",
      "metadata": {
        "id": "view-in-github",
        "colab_type": "text"
      },
      "source": [
        "<a href=\"https://colab.research.google.com/github/Arziva/data-pipeline/blob/main/final_parser.ipynb\" target=\"_parent\"><img src=\"https://colab.research.google.com/assets/colab-badge.svg\" alt=\"Open In Colab\"/></a>"
      ]
    },
    {
      "cell_type": "code",
      "execution_count": 2,
      "metadata": {
        "id": "Eg7K7Nt_TXov"
      },
      "outputs": [],
      "source": [
        "def read_ids_from_file(file_path):\n",
        "    with open(file_path, 'r') as file:\n",
        "        ids = file.read().replace(',', ' ').split()\n",
        "        return ids\n",
        "\n",
        "def create_id_string(ids):\n",
        "    id_string = ','.join(ids[:100])\n",
        "    remaining_ids = ids[100:]\n",
        "    return id_string, remaining_ids\n",
        "\n",
        "def process_ids(file_path):\n",
        "    all_ids = read_ids_from_file(file_path)\n",
        "    while all_ids:\n",
        "        id_string, all_ids = create_id_string(all_ids)\n",
        "        url = \"https://www.ncbi.nlm.nih.gov/research/pubtator-api/publications/export/biocjson?pmids=\"\n",
        "        url += id_string\n",
        "\n",
        "\n",
        "\n",
        "        import requests\n",
        "        r = requests.get(url)\n",
        "\n",
        "        import json\n",
        "        s = r.text.strip()\n",
        "\n",
        "        jsons = []\n",
        "\n",
        "        start, end = s.find('{'), s.find('}')\n",
        "        while True:\n",
        "            try:\n",
        "                jsons.append(json.loads(s[start:end + 1]))\n",
        "            except ValueError:\n",
        "                end = end + 1 + s[end + 1:].find('}')\n",
        "            else:\n",
        "                s = s[end + 1:]\n",
        "                if not s:\n",
        "                    break\n",
        "                start, end = s.find('{'), s.find('}')\n",
        "\n",
        "\n",
        "        data = r.text\n",
        "        for i in jsons:\n",
        "            name = i[\"id\"]\n",
        "            passages = i.get('passages', [])\n",
        "            entities_list = []\n",
        "\n",
        "            text = \"\"\n",
        "\n",
        "            for passage in passages:\n",
        "                text += passage.get('text', '') + \" \"\n",
        "                annotations = passage.get('annotations', [])\n",
        "\n",
        "                for annotation in annotations:\n",
        "                    entity_id = annotation['id']\n",
        "                    start_offset = annotation['locations'][0]['offset']\n",
        "                    end_offset = start_offset + annotation['locations'][0]['length']\n",
        "                    label = annotation['infons'].get('type', '')\n",
        "\n",
        "                    entity = {\n",
        "                        'id' : entity_id,\n",
        "                        'start_offset': start_offset,\n",
        "                        'end_offset': end_offset,\n",
        "                        'label': label\n",
        "                    }\n",
        "\n",
        "                    entities_list.append(entity)\n",
        "\n",
        "\n",
        "            output_data = {\n",
        "                'text': text,\n",
        "                'entities': entities_list\n",
        "            }\n",
        "            json_object = json.dumps(output_data)\n",
        "            with open(\"{}_output.jsonl\".format(name), \"w\") as outfile:\n",
        "                outfile.write(json_object)\n",
        "\n",
        "\n",
        "\n",
        "\n",
        "\n",
        "\n",
        "# Enter file name\n",
        "file_path = 'ids.txt'\n",
        "process_ids(file_path)\n"
      ]
    }
  ]
}