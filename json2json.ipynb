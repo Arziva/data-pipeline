{
  "nbformat": 4,
  "nbformat_minor": 0,
  "metadata": {
    "colab": {
      "provenance": [],
      "include_colab_link": true
    },
    "kernelspec": {
      "name": "python3",
      "display_name": "Python 3"
    },
    "language_info": {
      "name": "python"
    }
  },
  "cells": [
    {
      "cell_type": "markdown",
      "metadata": {
        "id": "view-in-github",
        "colab_type": "text"
      },
      "source": [
        "<a href=\"https://colab.research.google.com/github/Arziva/data-pipiline/blob/main/json2json.ipynb\" target=\"_parent\"><img src=\"https://colab.research.google.com/assets/colab-badge.svg\" alt=\"Open In Colab\"/></a>"
      ]
    },
    {
      "cell_type": "code",
      "source": [
        "import json\n",
        "# with open('input.json', 'r') as file:\n",
        "#     json_data = json.load(file)\n",
        "\n",
        "data = [json.loads(line) for line in open('input.json', 'r')]"
      ],
      "metadata": {
        "id": "3iy381XCSKti"
      },
      "execution_count": null,
      "outputs": []
    },
    {
      "cell_type": "code",
      "source": [
        "for i in data:\n",
        "    name = i[\"id\"]\n",
        "    passages = i.get('passages', [])\n",
        "    entities_list = []\n",
        "\n",
        "    text = \"\"\n",
        "\n",
        "    for passage in passages:\n",
        "        text += passage.get('text', '') + \" \"\n",
        "        annotations = passage.get('annotations', [])\n",
        "\n",
        "        for annotation in annotations:\n",
        "            entity_id = annotation['id']\n",
        "            start_offset = annotation['locations'][0]['offset']\n",
        "            end_offset = start_offset + annotation['locations'][0]['length']\n",
        "            label = annotation['infons'].get('type', '')\n",
        "\n",
        "            entity = {\n",
        "                'id' : entity_id,\n",
        "                'start_offset': start_offset,\n",
        "                'end_offset': end_offset,\n",
        "                'label': label\n",
        "            }\n",
        "\n",
        "            entities_list.append(entity)\n",
        "\n",
        "\n",
        "    output_data = {\n",
        "        'text': text,\n",
        "        'entities': entities_list\n",
        "    }\n",
        "\n",
        "    json_object = json.dumps(output_data, indent=4)\n",
        "\n",
        "    with open(\"{}_output.json\".format(name), \"w\") as outfile:\n",
        "        outfile.write(json_object)"
      ],
      "metadata": {
        "id": "-7X9FWdgShQn"
      },
      "execution_count": 50,
      "outputs": []
    }
  ]
}