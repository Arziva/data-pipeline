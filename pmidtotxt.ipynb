{
  "nbformat": 4,
  "nbformat_minor": 0,
  "metadata": {
    "colab": {
      "provenance": [],
      "authorship_tag": "ABX9TyP1L8f6p0PGwI//oPT1Fe9X",
      "include_colab_link": true
    },
    "kernelspec": {
      "name": "python3",
      "display_name": "Python 3"
    },
    "language_info": {
      "name": "python"
    }
  },
  "cells": [
    {
      "cell_type": "markdown",
      "metadata": {
        "id": "view-in-github",
        "colab_type": "text"
      },
      "source": [
        "<a href=\"https://colab.research.google.com/github/Arziva/data-pipeline/blob/main/pmidtotxt.ipynb\" target=\"_parent\"><img src=\"https://colab.research.google.com/assets/colab-badge.svg\" alt=\"Open In Colab\"/></a>"
      ]
    },
    {
      "cell_type": "code",
      "execution_count": 1,
      "metadata": {
        "id": "r4aAARoCnDtO"
      },
      "outputs": [],
      "source": [
        "import re\n",
        "\n",
        "def extract_pmids(text):\n",
        "  pmids = []\n",
        "  for line in text.splitlines():\n",
        "    match = re.search(r\"PMID:\\s*(\\d+)\", line)\n",
        "    if match:\n",
        "      pmids.append(match.group(1))\n",
        "  return pmids\n",
        "\n",
        "if __name__ == \"__main__\":\n",
        "  with open(\"tbl.txt\", \"r\") as f:\n",
        "    text = f.read()\n",
        "\n",
        "  pmids = extract_pmids(text)\n",
        "\n",
        "  with open(\"pmids.txt\", \"w\") as f:\n",
        "    for pmid in pmids:\n",
        "      f.write(pmid + \"\\n\")\n"
      ]
    }
  ]
}